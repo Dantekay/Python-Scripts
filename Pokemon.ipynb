{
 "cells": [
  {
   "cell_type": "code",
   "execution_count": 42,
   "id": "7512a06e-be4e-41e1-bfc1-4d6ab6da8fa0",
   "metadata": {},
   "outputs": [
    {
     "name": "stdout",
     "output_type": "stream",
     "text": [
      "This is how many pokemon of each type exist:\n",
      "Water       143\n",
      "Normal      117\n",
      "Flying      113\n",
      "Grass       109\n",
      "Psychic     103\n",
      "Bug          83\n",
      "Ground       75\n",
      "Fire         74\n",
      "Poison       71\n",
      "Rock         70\n",
      "Fighting     63\n",
      "Steel        62\n",
      "Electric     62\n",
      "Dragon       61\n",
      "Dark         60\n",
      "Ghost        57\n",
      "Fairy        53\n",
      "Ice          44\n",
      "Name: Type, dtype: int64\n",
      "Strongest pokemon type is:\n",
      "275     Psychic\n",
      "276    Fighting\n",
      "277     Psychic\n",
      "677      Dragon\n",
      "678      Flying\n",
      "Name: Type, dtype: object\n"
     ]
    },
    {
     "data": {
      "image/png": "[encoded data removed]",
      "text/plain": [
       "<Figure size 432x288 with 1 Axes>"
      ]
     },
     "metadata": {
      "needs_background": "light"
     },
     "output_type": "display_data"
    }
   ],
   "source": [
    "import pandas as pd\n",
    "import matplotlib.pyplot as plt\n",
    "df = pd.read_csv (r'C:\\Users\\Karien\\Desktop\\python projects\\all_pokemon.csv')\n",
    "pd.options.display.max_rows = 4000\n",
    "type = df['Type'].value_counts()\n",
    "print (\"This is how many pokemon of each type exist:\")\n",
    "print (type)\n",
    "strongest = df['Type'][df.Total == df.Total.max()]\n",
    "print (\"Strongest pokemon type is:\")\n",
    "print (strongest)\n",
    "\n",
    "meantotal = df[\"Total\"].mean()\n",
    "meanhp = df[\"HP\"].mean()\n",
    "meanattack = df[\"Attack\"].mean()\n",
    "meandefense = df[\"Defense\"].mean()\n",
    "meanspattk = df[\"Sp. Atk\"].mean()\n",
    "meanspdef = df[\"Sp. Def\"].mean()\n",
    "meanspeed = df[\"Speed\"].mean()\n",
    "\n",
    "vartotal = df[\"Total\"].var()\n",
    "varhp = df[\"HP\"].var()\n",
    "varattack = df[\"Attack\"].var()\n",
    "vardefense = df[\"Defense\"].var()\n",
    "varspattk = df[\"Sp. Atk\"].var()\n",
    "varspdef = df[\"Sp. Def\"].var()\n",
    "varspeed = df[\"Speed\"].var()\n",
    "\n",
    "xAxis = [meantotal, meanhp, meanattack, meandefense, meanspattk, meanspdef ,meanspeed]\n",
    "yAxis = [vartotal, varhp, varattack, vardefense, varspattk, varspdef ,varspeed]\n",
    "\n",
    "plt.scatter(xAxis, yAxis)\n",
    "plt.title('scatter plot')\n",
    "plt.xlabel('Average')\n",
    "plt.ylabel('Variance')\n",
    "plt.show()\n",
    "\n",
    "\n"
   ]
  },
  {
   "cell_type": "code",
   "execution_count": null,
   "id": "2c373b5d-efe7-4d99-b832-7e9542864801",
   "metadata": {},
   "outputs": [],
   "source": []
  }
 ],
 "metadata": {
  "kernelspec": {
   "display_name": "Python 3 (ipykernel)",
   "language": "python",
   "name": "python3"
  },
  "language_info": {
   "codemirror_mode": {
    "name": "ipython",
    "version": 3
   },
   "file_extension": ".py",
   "mimetype": "text/x-python",
   "name": "python",
   "nbconvert_exporter": "python",
   "pygments_lexer": "ipython3",
   "version": "3.7.9"
  }
 },
 "nbformat": 4,
 "nbformat_minor": 5
}
