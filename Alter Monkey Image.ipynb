{
 "cells": [
  {
   "cell_type": "code",
   "execution_count": 6,
   "id": "5b995eb3-bf03-4d7b-a467-e7d8e29179ed",
   "metadata": {},
   "outputs": [
    {
     "name": "stdout",
     "output_type": "stream",
     "text": [
      "[113.19522476 128.85543823 137.41517258]\n"
     ]
    }
   ],
   "source": [
    "import cv2\n",
    "import numpy\n",
    "from PIL import Image, ImageEnhance\n",
    "img = cv2.imread(r\"C:\\Users\\Karien\\Desktop\\python projects\\test.jpg\") \n",
    "im =  Image.open(r\"C:\\Users\\Karien\\Desktop\\python projects\\test.jpg\")\n",
    "\n",
    "avg_color_per_row = numpy.average(img, axis=0)\n",
    "avg_color = numpy.average(avg_color_per_row, axis=0)\n",
    "print(avg_color)\n",
    "\n",
    "enhancer = ImageEnhance.Brightness(im)\n",
    "\n",
    "factor = 1 #gives original image\n",
    "im_output = enhancer.enhance(factor)\n",
    "im_output.save(r\"C:\\Users\\Karien\\Desktop\\python projects\\original-image.png\")\n",
    "im_output.show()\n",
    "\n",
    "factor = 0.5 #darkens the image\n",
    "im_output = enhancer.enhance(factor)\n",
    "im_output.save(r\"C:\\Users\\Karien\\Desktop\\python projects\\darkened-image.png\")\n",
    "im_output.show()\n",
    "\n",
    "factor = 1.5 #brightens the image\n",
    "im_output = enhancer.enhance(factor)\n",
    "im_output.save(r\"C:\\Users\\Karien\\Desktop\\python projects\\brightened-image.png\")\n",
    "im_output.show()"
   ]
  },
  {
   "cell_type": "code",
   "execution_count": null,
   "id": "33908aad-a2da-451f-84f3-25fdf070ce7f",
   "metadata": {},
   "outputs": [],
   "source": []
  },
  {
   "cell_type": "code",
   "execution_count": null,
   "id": "a2e2a315-2f5e-4489-bebc-05f2b1693146",
   "metadata": {},
   "outputs": [],
   "source": []
  },
  {
   "cell_type": "code",
   "execution_count": null,
   "id": "ced507eb-d190-4bcb-b39f-977cb6547972",
   "metadata": {},
   "outputs": [],
   "source": []
  },
  {
   "cell_type": "code",
   "execution_count": null,
   "id": "a0d6d25a-0008-48c2-b50f-0fde8cc0a109",
   "metadata": {},
   "outputs": [],
   "source": []
  },
  {
   "cell_type": "code",
   "execution_count": null,
   "id": "a05fda14-5ad0-49c3-a99d-cb2f42728db2",
   "metadata": {},
   "outputs": [],
   "source": []
  },
  {
   "cell_type": "code",
   "execution_count": null,
   "id": "f7fd4d8c-7987-4399-ac83-c9396317adc1",
   "metadata": {},
   "outputs": [],
   "source": []
  },
  {
   "cell_type": "code",
   "execution_count": null,
   "id": "fc0ae2d0-16ff-45ee-be8c-2337f328796e",
   "metadata": {},
   "outputs": [],
   "source": []
  }
 ],
 "metadata": {
  "kernelspec": {
   "display_name": "Python 3 (ipykernel)",
   "language": "python",
   "name": "python3"
  },
  "language_info": {
   "codemirror_mode": {
    "name": "ipython",
    "version": 3
   },
   "file_extension": ".py",
   "mimetype": "text/x-python",
   "name": "python",
   "nbconvert_exporter": "python",
   "pygments_lexer": "ipython3",
   "version": "3.7.9"
  }
 },
 "nbformat": 4,
 "nbformat_minor": 5
}
