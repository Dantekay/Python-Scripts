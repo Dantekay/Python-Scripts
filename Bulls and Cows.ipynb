{
 "cells": [
  {
   "cell_type": "code",
   "execution_count": 1,
   "id": "a3c13133-902a-49f1-960d-796bd26a8d2c",
   "metadata": {},
   "outputs": [
    {
     "name": "stdin",
     "output_type": "stream",
     "text": [
      "Enter your guess:  5498\n"
     ]
    },
    {
     "name": "stdout",
     "output_type": "stream",
     "text": [
      "0 bulls, 1 cows\n"
     ]
    },
    {
     "name": "stdin",
     "output_type": "stream",
     "text": [
      "Enter your guess:  5128\n"
     ]
    },
    {
     "name": "stdout",
     "output_type": "stream",
     "text": [
      "1 bulls, 0 cows\n"
     ]
    },
    {
     "name": "stdin",
     "output_type": "stream",
     "text": [
      "Enter your guess:  6134\n"
     ]
    },
    {
     "name": "stdout",
     "output_type": "stream",
     "text": [
      "1 bulls, 1 cows\n"
     ]
    },
    {
     "name": "stdin",
     "output_type": "stream",
     "text": [
      "Enter your guess:  7145\n"
     ]
    },
    {
     "name": "stdout",
     "output_type": "stream",
     "text": [
      "1 bulls, 1 cows\n"
     ]
    },
    {
     "name": "stdin",
     "output_type": "stream",
     "text": [
      "Enter your guess:  9128\n"
     ]
    },
    {
     "name": "stdout",
     "output_type": "stream",
     "text": [
      "2 bulls, 0 cows\n"
     ]
    },
    {
     "name": "stdin",
     "output_type": "stream",
     "text": [
      "Enter your guess:  4128\n"
     ]
    },
    {
     "name": "stdout",
     "output_type": "stream",
     "text": [
      "1 bulls, 0 cows\n"
     ]
    },
    {
     "name": "stdin",
     "output_type": "stream",
     "text": [
      "Enter your guess:  9156\n"
     ]
    },
    {
     "name": "stdout",
     "output_type": "stream",
     "text": [
      "2 bulls, 0 cows\n"
     ]
    },
    {
     "name": "stdin",
     "output_type": "stream",
     "text": [
      "Enter your guess:  9148\n"
     ]
    },
    {
     "name": "stdout",
     "output_type": "stream",
     "text": [
      "2 bulls, 0 cows\n"
     ]
    },
    {
     "name": "stdin",
     "output_type": "stream",
     "text": [
      "Enter your guess:  9135\n"
     ]
    },
    {
     "name": "stdout",
     "output_type": "stream",
     "text": [
      "2 bulls, 1 cows\n"
     ]
    },
    {
     "name": "stdin",
     "output_type": "stream",
     "text": [
      "Enter your guess:  9154\n"
     ]
    },
    {
     "name": "stdout",
     "output_type": "stream",
     "text": [
      "2 bulls, 0 cows\n"
     ]
    },
    {
     "name": "stdin",
     "output_type": "stream",
     "text": [
      "Enter your guess:  9153\n"
     ]
    },
    {
     "name": "stdout",
     "output_type": "stream",
     "text": [
      "3 bulls, 0 cows\n"
     ]
    },
    {
     "name": "stdin",
     "output_type": "stream",
     "text": [
      "Enter your guess:  9158\n"
     ]
    },
    {
     "name": "stdout",
     "output_type": "stream",
     "text": [
      "2 bulls, 0 cows\n"
     ]
    },
    {
     "name": "stdin",
     "output_type": "stream",
     "text": [
      "Enter your guess:  9123\n"
     ]
    },
    {
     "name": "stdout",
     "output_type": "stream",
     "text": [
      "3 bulls, 0 cows\n"
     ]
    },
    {
     "name": "stdin",
     "output_type": "stream",
     "text": [
      "Enter your guess:  9143\n"
     ]
    },
    {
     "name": "stdout",
     "output_type": "stream",
     "text": [
      "3 bulls, 0 cows\n"
     ]
    },
    {
     "name": "stdin",
     "output_type": "stream",
     "text": [
      "Enter your guess:  9173\n"
     ]
    },
    {
     "name": "stdout",
     "output_type": "stream",
     "text": [
      "4 bulls, 0 cows\n",
      "You guessed right!It took you 15\n"
     ]
    }
   ],
   "source": [
    "\n",
    "import random \n",
    "  \n",
    "# Returns list of digits \n",
    "# of a number\n",
    "def getDigits(num):\n",
    "    return [int(i) for i in str(num)]\n",
    "      \n",
    "  \n",
    "# Returns True if number has \n",
    "# no duplicate digits \n",
    "# otherwise False      \n",
    "def noDuplicates(num):\n",
    "    num_li = getDigits(num)\n",
    "    if len(num_li) == len(set(num_li)):\n",
    "        return True\n",
    "    else:\n",
    "        return False\n",
    "  \n",
    "  \n",
    "# Generates a 4 digit number \n",
    "# with no repeated digits    \n",
    "def generateNum():\n",
    "    while True:\n",
    "        num = random.randint(1000,9999)\n",
    "        if noDuplicates(num):\n",
    "            return num\n",
    "  \n",
    "  \n",
    "# Returns common digits with exact \n",
    "# matches (bulls) and the common \n",
    "# digits in wrong position (cows)\n",
    "def numOfBullsCows(num,guess):\n",
    "    bull_cow = [0,0]\n",
    "    num_li = getDigits(num)\n",
    "    guess_li = getDigits(guess)\n",
    "      \n",
    "    for i,j in zip(num_li,guess_li):\n",
    "          \n",
    "        # common digit present\n",
    "        if j in num_li:\n",
    "          \n",
    "            # common digit exact match\n",
    "            if j == i:\n",
    "                bull_cow[0] += 1\n",
    "              \n",
    "            # common digit match but in wrong position\n",
    "            else:\n",
    "                bull_cow[1] += 1\n",
    "                  \n",
    "    return bull_cow\n",
    "      \n",
    "      \n",
    "# Secret Code\n",
    "if __name__==\"__main__\":\n",
    "    playing = True #gotta play the game\n",
    "num = generateNum()\n",
    "guesses = 0;\n",
    "\n",
    "  \n",
    "# Play game until correct guess \n",
    "# or till no tries left\n",
    "while playing:\n",
    "    guess = int(input(\"Enter your guess: \"))\n",
    "      \n",
    "    if not noDuplicates(guess):\n",
    "        print(\"Number should not have repeated digits. Try again.\")\n",
    "        continue\n",
    "    if guess < 1000 or guess > 9999:\n",
    "        print(\"Enter 4 digit number only. Try again.\")\n",
    "        continue\n",
    "      \n",
    "    bull_cow = numOfBullsCows(num,guess)\n",
    "    print(f\"{bull_cow[0]} bulls, {bull_cow[1]} cows\")\n",
    "    guesses+=1\n",
    "      \n",
    "    if bull_cow[0] == 4:\n",
    "        print(\"You guessed right!\" + \"It took you \" + str(guesses) + \"tries\")\n",
    "        break\n"
   ]
  },
  {
   "cell_type": "code",
   "execution_count": null,
   "id": "d4edfd31-df20-4a2c-b9fb-dd95bea84164",
   "metadata": {},
   "outputs": [],
   "source": []
  },
  {
   "cell_type": "code",
   "execution_count": null,
   "id": "f6b91e05-433f-41a6-a8b5-d4ea0845d871",
   "metadata": {},
   "outputs": [],
   "source": []
  }
 ],
 "metadata": {
  "kernelspec": {
   "display_name": "Python 3 (ipykernel)",
   "language": "python",
   "name": "python3"
  },
  "language_info": {
   "codemirror_mode": {
    "name": "ipython",
    "version": 3
   },
   "file_extension": ".py",
   "mimetype": "text/x-python",
   "name": "python",
   "nbconvert_exporter": "python",
   "pygments_lexer": "ipython3",
   "version": "3.7.9"
  }
 },
 "nbformat": 4,
 "nbformat_minor": 5
}
