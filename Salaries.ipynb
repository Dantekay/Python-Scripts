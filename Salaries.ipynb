{
 "cells": [
  {
   "cell_type": "code",
   "execution_count": 25,
   "id": "cb1a6617-f021-4417-94fe-7edfa356a040",
   "metadata": {},
   "outputs": [
    {
     "name": "stdout",
     "output_type": "stream",
     "text": [
      "First row of the DataFrame:\n",
      "   rank discipline  phd  service   sex  salary\n",
      "0  Prof          B   56       49  Male  186960\n",
      "Last 5 rows of the DataFrame:\n",
      "         rank discipline  phd  service     sex  salary\n",
      "73       Prof          B   18       10  Female  105450\n",
      "74  AssocProf          B   19        6  Female  104542\n",
      "75       Prof          B   17       17  Female  124312\n",
      "76       Prof          A   28       14  Female  109954\n",
      "77       Prof          A   23       15  Female  109646\n",
      "Person with Max salary:\n",
      "   rank discipline  phd  service   sex  salary\n",
      "0  Prof          B   56       49  Male  186960\n",
      "The Scatter Graph is:\n"
     ]
    },
    {
     "data": {
      "image/png": "[encoded data removed]",
      "text/plain": [
       "<Figure size 432x288 with 1 Axes>"
      ]
     },
     "metadata": {
      "needs_background": "light"
     },
     "output_type": "display_data"
    }
   ],
   "source": [
    "import pandas as pd\n",
    "import matplotlib.pyplot as plt\n",
    "df = pd.read_csv (r'C:\\Users\\Karien\\Desktop\\python projects\\Salaries.csv')\n",
    "result = df.head(1)\n",
    "resulttail = df.tail(5)\n",
    "male = df[df['sex']== 'Male']['salary']\n",
    "female = df[df['sex']== 'Female']['salary']\n",
    "plt.scatter(male, female)\n",
    "plt.xlabel(\"male\")\n",
    "plt.ylabel(\"female\")\n",
    "plt.title('My first graph!')\n",
    "\n",
    "print (\"First row of the DataFrame:\")\n",
    "print (result)\n",
    "print(\"Last 5 rows of the DataFrame:\")\n",
    "print (resulttail)\n",
    "print ('Person with Max salary:')\n",
    "print(df[df.salary == df.salary.max()])\n",
    "print ('The Scatter Plot is:')\n",
    "plt.show()\n"
   ]
  },
  {
   "cell_type": "code",
   "execution_count": null,
   "id": "86e8cf05-20b3-4a61-8205-07aba5ebd1fa",
   "metadata": {},
   "outputs": [],
   "source": []
  },
  {
   "cell_type": "code",
   "execution_count": null,
   "id": "caa6eda9-d67e-47f1-baa6-880b4c346415",
   "metadata": {},
   "outputs": [],
   "source": []
  },
  {
   "cell_type": "code",
   "execution_count": null,
   "id": "25fccd54-56cd-4a27-8db6-7a4b9214180e",
   "metadata": {},
   "outputs": [],
   "source": []
  },
  {
   "cell_type": "code",
   "execution_count": null,
   "id": "c1a2929e-5573-4197-a6a4-0f711b54f033",
   "metadata": {},
   "outputs": [],
   "source": []
  },
  {
   "cell_type": "code",
   "execution_count": null,
   "id": "572a3146-cb69-41ca-b635-0a53f8d391dd",
   "metadata": {},
   "outputs": [],
   "source": []
  }
 ],
 "metadata": {
  "kernelspec": {
   "display_name": "Python 3 (ipykernel)",
   "language": "python",
   "name": "python3"
  },
  "language_info": {
   "codemirror_mode": {
    "name": "ipython",
    "version": 3
   },
   "file_extension": ".py",
   "mimetype": "text/x-python",
   "name": "python",
   "nbconvert_exporter": "python",
   "pygments_lexer": "ipython3",
   "version": "3.7.9"
  }
 },
 "nbformat": 4,
 "nbformat_minor": 5
}
