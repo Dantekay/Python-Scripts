{
 "cells": [
  {
   "cell_type": "code",
   "execution_count": 3,
   "id": "39a23cbf-bbc8-48c4-8e10-d126e3eae1d0",
   "metadata": {},
   "outputs": [],
   "source": [
    "from PIL import Image \n",
    " \n",
    "  \n",
    "img = Image.open(r\"C:\\Users\\Karien\\Desktop\\python projects\\cat.jpg\") \n",
    " \n",
    " \n",
    "left = 0\n",
    "top = 50\n",
    "right = 510\n",
    "bottom = 292\n",
    " \n",
    "  \n",
    "img_res = img.crop((left, top, right, bottom)) \n",
    " \n",
    " \n",
    "img_res.show() "
   ]
  },
  {
   "cell_type": "code",
   "execution_count": null,
   "id": "9574032a-89f1-49cb-94d5-12371ac860df",
   "metadata": {},
   "outputs": [],
   "source": []
  }
 ],
 "metadata": {
  "kernelspec": {
   "display_name": "Python 3 (ipykernel)",
   "language": "python",
   "name": "python3"
  },
  "language_info": {
   "codemirror_mode": {
    "name": "ipython",
    "version": 3
   },
   "file_extension": ".py",
   "mimetype": "text/x-python",
   "name": "python",
   "nbconvert_exporter": "python",
   "pygments_lexer": "ipython3",
   "version": "3.7.9"
  }
 },
 "nbformat": 4,
 "nbformat_minor": 5
}
