{
 "cells": [
  {
   "cell_type": "code",
   "execution_count": 1,
   "id": "18b71080-68e6-43c5-8905-7e4b97979910",
   "metadata": {},
   "outputs": [
    {
     "name": "stdout",
     "output_type": "stream",
     "text": [
      "[104.04277562 117.19938082 118.14386452]\n"
     ]
    }
   ],
   "source": [
    "import cv2\n",
    "import numpy\n",
    "from PIL import Image, ImageEnhance\n",
    "img = cv2.imread(r\"C:\\Users\\Karien\\Desktop\\python projects\\cat.jpg\") \n",
    "im =  Image.open(r\"C:\\Users\\Karien\\Desktop\\python projects\\cat.jpg\")\n",
    "\n",
    "avg_color_per_row = numpy.average(img, axis=0)\n",
    "avg_color = numpy.average(avg_color_per_row, axis=0)\n",
    "print(avg_color)\n",
    "\n",
    "enhancer = ImageEnhance.Brightness(im)\n",
    "\n",
    "factor = 1 #gives original image\n",
    "im_output = enhancer.enhance(factor)\n",
    "im_output.save(r\"C:\\Users\\Karien\\Desktop\\python projects\\original-image.png\")\n",
    "im_output.show()\n",
    "\n",
    "factor = 0.5 #darkens the image\n",
    "im_output = enhancer.enhance(factor)\n",
    "im_output.save(r\"C:\\Users\\Karien\\Desktop\\python projects\\darkened-image.png\")\n",
    "im_output.show()\n",
    "\n",
    "factor = 1.5 #brightens the image\n",
    "im_output = enhancer.enhance(factor)\n",
    "im_output.save(r\"C:\\Users\\Karien\\Desktop\\python projects\\brightened-image.png\")\n",
    "im_output.show()"
   ]
  },
  {
   "cell_type": "code",
   "execution_count": null,
   "id": "e9617a6f-aae7-4929-ad20-0d871276b2cb",
   "metadata": {},
   "outputs": [],
   "source": []
  }
 ],
 "metadata": {
  "kernelspec": {
   "display_name": "Python 3 (ipykernel)",
   "language": "python",
   "name": "python3"
  },
  "language_info": {
   "codemirror_mode": {
    "name": "ipython",
    "version": 3
   },
   "file_extension": ".py",
   "mimetype": "text/x-python",
   "name": "python",
   "nbconvert_exporter": "python",
   "pygments_lexer": "ipython3",
   "version": "3.7.9"
  }
 },
 "nbformat": 4,
 "nbformat_minor": 5
}
