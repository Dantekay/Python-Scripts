{
 "cells": [
  {
   "cell_type": "code",
   "execution_count": 1,
   "id": "a6088f42-70a9-48df-9c55-598908682514",
   "metadata": {},
   "outputs": [],
   "source": [
    "from PIL import Image \n",
    " \n",
    "  \n",
    "img = Image.open(r\"C:\\Users\\Karien\\Desktop\\python projects\\test.jpg\") \n",
    " \n",
    " \n",
    "left = 0\n",
    "top = 50\n",
    "right = 510\n",
    "bottom = 292\n",
    " \n",
    "  \n",
    "img_res = img.crop((left, top, right, bottom)) \n",
    " \n",
    " \n",
    "img_res.show() "
   ]
  },
  {
   "cell_type": "code",
   "execution_count": null,
   "id": "c8e6e654-b08f-4fdf-9725-e1eae71f8b10",
   "metadata": {},
   "outputs": [],
   "source": []
  }
 ],
 "metadata": {
  "kernelspec": {
   "display_name": "Python 3 (ipykernel)",
   "language": "python",
   "name": "python3"
  },
  "language_info": {
   "codemirror_mode": {
    "name": "ipython",
    "version": 3
   },
   "file_extension": ".py",
   "mimetype": "text/x-python",
   "name": "python",
   "nbconvert_exporter": "python",
   "pygments_lexer": "ipython3",
   "version": "3.7.9"
  }
 },
 "nbformat": 4,
 "nbformat_minor": 5
}
