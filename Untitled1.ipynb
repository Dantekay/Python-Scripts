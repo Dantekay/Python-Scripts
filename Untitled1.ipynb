{
 "cells": [
  {
   "cell_type": "code",
   "execution_count": null,
   "id": "de634131-f24b-44d3-839c-d4b10bfdf0a6",
   "metadata": {},
   "outputs": [],
   "source": []
  },
  {
   "cell_type": "code",
   "execution_count": null,
   "id": "1a850053-bcba-4ec3-8fd3-15d75fa76e61",
   "metadata": {},
   "outputs": [
    {
     "name": "stdout",
     "output_type": "stream",
     "text": [
      "Let's play a game of Cowbull!\n",
      "I will generate a number, and you have to guess the numbers one digit at a time.\n",
      "For every number in the wrong place, you get a cow. For every one in the right place, you get a bull.\n",
      "The game ends when you get 4 bulls!\n",
      "Type exit at any prompt to exit.\n"
     ]
    },
    {
     "name": "stdin",
     "output_type": "stream",
     "text": [
      "Give me your best guess! 7458\n"
     ]
    },
    {
     "name": "stdout",
     "output_type": "stream",
     "text": [
      "You have 4 cows, and 0 bulls.\n",
      "Your guess isn't quite right, try again.\n"
     ]
    },
    {
     "name": "stdin",
     "output_type": "stream",
     "text": [
      "Give me your best guess! 5847\n"
     ]
    },
    {
     "name": "stdout",
     "output_type": "stream",
     "text": [
      "You have 4 cows, and 0 bulls.\n",
      "Your guess isn't quite right, try again.\n"
     ]
    },
    {
     "name": "stdin",
     "output_type": "stream",
     "text": [
      "Give me your best guess! 5874\n"
     ]
    },
    {
     "name": "stdout",
     "output_type": "stream",
     "text": [
      "You have 3 cows, and 1 bulls.\n",
      "Your guess isn't quite right, try again.\n"
     ]
    },
    {
     "name": "stdin",
     "output_type": "stream",
     "text": [
      "Give me your best guess! 5864\n"
     ]
    },
    {
     "name": "stdout",
     "output_type": "stream",
     "text": [
      "You have 3 cows, and 1 bulls.\n",
      "Your guess isn't quite right, try again.\n"
     ]
    },
    {
     "name": "stdin",
     "output_type": "stream",
     "text": [
      "Give me your best guess! 5864\n"
     ]
    },
    {
     "name": "stdout",
     "output_type": "stream",
     "text": [
      "You have 3 cows, and 1 bulls.\n",
      "Your guess isn't quite right, try again.\n"
     ]
    },
    {
     "name": "stdin",
     "output_type": "stream",
     "text": [
      "Give me your best guess! 5834\n"
     ]
    },
    {
     "name": "stdout",
     "output_type": "stream",
     "text": [
      "You have 3 cows, and 1 bulls.\n",
      "Your guess isn't quite right, try again.\n"
     ]
    }
   ],
   "source": [
    "import random \n",
    "  \n",
    "# Returns list of digits \n",
    "# of a number\n",
    "def getDigits(num):\n",
    "    return [int(i) for i in str(num)]\n",
    "      \n",
    "  \n",
    "# Returns True if number has \n",
    "# no duplicate digits \n",
    "# otherwise False      \n",
    "def noDuplicates(num):\n",
    "    num_li = getDigits(num)\n",
    "    if len(num_li) == len(set(num_li)):\n",
    "        return True\n",
    "    else:\n",
    "        return False\n",
    "  \n",
    "  \n",
    "# Generates a 4 digit number \n",
    "# with no repeated digits    \n",
    "def generateNum():\n",
    "    while True:\n",
    "        num = random.randint(1000,9999)\n",
    "        if noDuplicates(num):\n",
    "            return num\n",
    "  \n",
    "  \n",
    "# Returns common digits with exact \n",
    "# matches (bulls) and the common \n",
    "# digits in wrong position (cows)\n",
    "def numOfBullsCows(num,guess):\n",
    "    bull_cow = [0,0]\n",
    "    num_li = getDigits(num)\n",
    "    guess_li = getDigits(guess)\n",
    "      \n",
    "    for i,j in zip(num_li,guess_li):\n",
    "          \n",
    "        # common digit present\n",
    "        if j in num_li:\n",
    "          \n",
    "            # common digit exact match\n",
    "            if j == i:\n",
    "                bull_cow[0] += 1\n",
    "              \n",
    "            # common digit match but in wrong position\n",
    "            else:\n",
    "                bull_cow[1] += 1\n",
    "                  \n",
    "    return bull_cow\n",
    "      \n",
    "      \n",
    "# Secret Code\n",
    "num = generateNum()\n",
    "tries =int(input('Enter number of tries: '))\n",
    "  \n",
    "# Play game until correct guess \n",
    "# or till no tries left\n",
    "while tries > 0:\n",
    "    guess = int(input(\"Enter your guess: \"))\n",
    "      \n",
    "    if not noDuplicates(guess):\n",
    "        print(\"Number should not have repeated digits. Try again.\")\n",
    "        continue\n",
    "    if guess < 1000 or guess > 9999:\n",
    "        print(\"Enter 4 digit number only. Try again.\")\n",
    "        continue\n",
    "      \n",
    "    bull_cow = numOfBullsCows(num,guess)\n",
    "    print(f\"{bull_cow[0]} bulls, {bull_cow[1]} cows\")\n",
    "    tries -=1\n",
    "      \n",
    "    if bull_cow[0] == 4:\n",
    "        print(\"You guessed right!\")\n",
    "        break\n",
    "else:\n",
    "    print(f\"You ran out of tries. Number was {num}\")"
   ]
  },
  {
   "cell_type": "code",
   "execution_count": null,
   "id": "883d24bc-3c79-4a7a-af14-4c537f0fdc32",
   "metadata": {},
   "outputs": [],
   "source": [
    "4563\n"
   ]
  },
  {
   "cell_type": "code",
   "execution_count": null,
   "id": "db196789-23f5-4d25-8f64-94b3ccd530fd",
   "metadata": {},
   "outputs": [],
   "source": [
    "4\n"
   ]
  }
 ],
 "metadata": {
  "kernelspec": {
   "display_name": "Python 3 (ipykernel)",
   "language": "python",
   "name": "python3"
  },
  "language_info": {
   "codemirror_mode": {
    "name": "ipython",
    "version": 3
   },
   "file_extension": ".py",
   "mimetype": "text/x-python",
   "name": "python",
   "nbconvert_exporter": "python",
   "pygments_lexer": "ipython3",
   "version": "3.10.9"
  }
 },
 "nbformat": 4,
 "nbformat_minor": 5
}
